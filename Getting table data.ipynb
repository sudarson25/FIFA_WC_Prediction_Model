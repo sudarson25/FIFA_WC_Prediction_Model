{
 "cells": [
  {
   "cell_type": "code",
   "execution_count": 2,
   "id": "d2903527-5c91-4ff2-9f5b-5d3bc725575b",
   "metadata": {},
   "outputs": [],
   "source": [
    "import pandas as pd\n",
    "import pickle\n",
    "from string import ascii_uppercase as alphabet"
   ]
  },
  {
   "cell_type": "code",
   "execution_count": 3,
   "id": "f99b6687-0892-48e6-86d7-eabed5b71e34",
   "metadata": {},
   "outputs": [],
   "source": [
    "all_tables = pd.read_html('https://web.archive.org/web/20221115040351/https://en.wikipedia.org/wiki/2022_FIFA_World_Cup')"
   ]
  },
  {
   "cell_type": "code",
   "execution_count": 9,
   "id": "e9611327-1537-48d8-aa1e-be6ddae3fdb0",
   "metadata": {},
   "outputs": [
    {
     "name": "stdout",
     "output_type": "stream",
     "text": [
      "Requirement already satisfied: lxml in c:\\users\\sudar\\appdata\\local\\packages\\pythonsoftwarefoundation.python.3.11_qbz5n2kfra8p0\\localcache\\local-packages\\python311\\site-packages (4.9.3)\n",
      "Note: you may need to restart the kernel to use updated packages.\n"
     ]
    }
   ],
   "source": [
    "pip install lxml"
   ]
  },
  {
   "cell_type": "code",
   "execution_count": null,
   "id": "43a40188-197f-4311-8ffc-7154f60383d7",
   "metadata": {},
   "outputs": [],
   "source": [
    "all_tables = pd.read_html('https://web.archive.org/web/20221115040351/https://en.wikipedia.org/wiki/2022_FIFA_World_Cup')\n",
    "# Use pd.read_html to extract tables from a URL or HTML content"
   ]
  },
  {
   "cell_type": "code",
   "execution_count": null,
   "id": "e277a5a6-a3f1-4a88-a74d-34b23907febd",
   "metadata": {},
   "outputs": [],
   "source": [
    "# 'all_tables' is a list of DataFrame objects, one for each table found on the web page\n",
    "# You can access the DataFrame(s) like this:\n",
    "all_tables"
   ]
  },
  {
   "cell_type": "code",
   "execution_count": null,
   "id": "37c3b228-a776-42b5-a9df-6ad6fa873343",
   "metadata": {},
   "outputs": [],
   "source": [
    "all_tables[12]\n",
    "#Trial and Error: Table of Group A\n",
    "all_tables[19]\n",
    "#Trial and Error: Table of Group B\n",
    "all_tables[26]\n",
    "#Trial and Error: Table of Group C\n",
    "all_tables[33]\n",
    "#Trial and Error: Table of Group D\n",
    "all_tables[40]\n",
    "#Trial and Error: Table of Group E\n",
    "all_tables[47]\n",
    "#Trial and Error: Table of Group F\n",
    "all_tables[54]\n",
    "#Trial and Error: Table of Group G\n",
    "all_tables[61]\n",
    "#Trial and Error: Table of Group H"
   ]
  },
  {
   "cell_type": "code",
   "execution_count": null,
   "id": "2ee108f0-ca02-4954-bce5-54ba6ecc8ff1",
   "metadata": {},
   "outputs": [],
   "source": [
    "# Linking each group's alphabet with the index value\n",
    "alphabet\n"
   ]
  },
  {
   "cell_type": "code",
   "execution_count": null,
   "id": "d3b7fbc8-2ebd-4376-a3f4-7e03a9767eaa",
   "metadata": {},
   "outputs": [],
   "source": [
    "#We're gonna remove the 'Qualification' column and rename the 'Teamvte' column\n",
    "\n",
    "# #Printing the tables' index numbers\n",
    "for i in range(12,68,7):\n",
    "    print(i)"
   ]
  },
  {
   "cell_type": "code",
   "execution_count": null,
   "id": "2ea913ad-1073-4fff-9619-6aefea4fea3a",
   "metadata": {},
   "outputs": [],
   "source": [
    "for letter, i in zip(alphabet, range(12,68,7)):\n",
    "    print(letter,i)"
   ]
  },
  {
   "cell_type": "code",
   "execution_count": 4,
   "id": "34fd25e6-649e-4a77-8c46-06113b8cfbfd",
   "metadata": {},
   "outputs": [],
   "source": [
    "#Clean the dataframes and create a dictionary\n",
    "all_tables = pd.read_html('https://web.archive.org/web/20221115040351/https://en.wikipedia.org/wiki/2022_FIFA_World_Cup')\n",
    "#df is a pandas DataFrame since it's used to store 2 dimentional table data\n",
    "#inplace = True saves the changes in the same dataframe and prevents the creation of new dataframe\n",
    "\n",
    "dict_table = {} #Creating an empty dictionary\n",
    "for letter, i in zip(alphabet, range(12,68,7)):\n",
    "    df = all_tables[i]\n",
    "    df.rename(columns={'Teamvte':'Team'},inplace = True)\n",
    "    df.pop('Qualification')\n",
    "    #dict_table['Group A']=df\n",
    "    #The key named Group A has the value df which consists of table data\n",
    "    #Generalizing the above statement\n",
    "    dict_table[f'Group {letter}'] = df"
   ]
  },
  {
   "cell_type": "code",
   "execution_count": null,
   "id": "f5944cfc-be82-4d35-997c-e636efa15741",
   "metadata": {},
   "outputs": [],
   "source": [
    "#Checking the dictionary has been created successfully\n",
    "#Keys have been dynamically generated using an f-string\n",
    "dict_table.keys()"
   ]
  },
  {
   "cell_type": "code",
   "execution_count": null,
   "id": "aca9e234-8d3e-470f-a317-76b0cdf410bf",
   "metadata": {},
   "outputs": [],
   "source": [
    "dict_table['Group H']"
   ]
  },
  {
   "cell_type": "code",
   "execution_count": null,
   "id": "b2d6cbae-7435-4efb-9b4d-b5801e072c45",
   "metadata": {},
   "outputs": [],
   "source": [
    "#Exporting dictionary to a file\n",
    "#Here dict_table is the name of the file to whcih the dictionary is being exported\n",
    "#wb stands for write byte\n",
    "with open('dict_table','wb') as output:\n",
    "    pickle.dump(dict_table,output) #Here dict_table represents the dictionary"
   ]
  }
 ],
 "metadata": {
  "kernelspec": {
   "display_name": "Python 3 (ipykernel)",
   "language": "python",
   "name": "python3"
  },
  "language_info": {
   "codemirror_mode": {
    "name": "ipython",
    "version": 3
   },
   "file_extension": ".py",
   "mimetype": "text/x-python",
   "name": "python",
   "nbconvert_exporter": "python",
   "pygments_lexer": "ipython3",
   "version": "3.11.6"
  }
 },
 "nbformat": 4,
 "nbformat_minor": 5
}
